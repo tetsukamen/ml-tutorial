{
 "cells": [
  {
   "cell_type": "code",
   "execution_count": 2,
   "metadata": {},
   "outputs": [],
   "source": [
    "#pandas & numpy\n",
    "import pandas as pd\n",
    "import numpy as np\n",
    "\n",
    "#Preprocessing\n",
    "from sklearn.preprocessing import StandardScaler\n",
    "from sklearn.preprocessing import OneHotEncoder\n",
    "from sklearn.preprocessing import MinMaxScaler\n",
    "\n",
    "#the classification algorithms\n",
    "from sklearn.svm import SVC\n",
    "from sklearn.ensemble import RandomForestClassifier\n",
    "from sklearn.naive_bayes import GaussianNB\n",
    "\n",
    "#for parameter optimization\n",
    "from sklearn.model_selection import GridSearchCV\n",
    "\n",
    "#for evaluation \n",
    "from sklearn.model_selection import cross_val_score\n",
    "from sklearn.model_selection import cross_val_predict\n",
    "from sklearn.metrics import confusion_matrix\n",
    "from sklearn import metrics\n",
    "\n",
    "#ignore all warnings\n",
    "import warnings\n",
    "warnings.filterwarnings(\"ignore\")\n",
    "\n",
    "#load the data\n",
    "data = pd.read_csv('titanicAssignment.csv')\n"
   ]
  },
  {
   "cell_type": "code",
   "execution_count": 7,
   "metadata": {},
   "outputs": [
    {
     "data": {
      "text/html": [
       "<div>\n",
       "<style scoped>\n",
       "    .dataframe tbody tr th:only-of-type {\n",
       "        vertical-align: middle;\n",
       "    }\n",
       "\n",
       "    .dataframe tbody tr th {\n",
       "        vertical-align: top;\n",
       "    }\n",
       "\n",
       "    .dataframe thead th {\n",
       "        text-align: right;\n",
       "    }\n",
       "</style>\n",
       "<table border=\"1\" class=\"dataframe\">\n",
       "  <thead>\n",
       "    <tr style=\"text-align: right;\">\n",
       "      <th></th>\n",
       "      <th>欠損数</th>\n",
       "      <th>%</th>\n",
       "    </tr>\n",
       "  </thead>\n",
       "  <tbody>\n",
       "    <tr>\n",
       "      <th>pclass</th>\n",
       "      <td>0</td>\n",
       "      <td>0.0</td>\n",
       "    </tr>\n",
       "    <tr>\n",
       "      <th>survived</th>\n",
       "      <td>0</td>\n",
       "      <td>0.0</td>\n",
       "    </tr>\n",
       "    <tr>\n",
       "      <th>sex</th>\n",
       "      <td>0</td>\n",
       "      <td>0.0</td>\n",
       "    </tr>\n",
       "    <tr>\n",
       "      <th>age</th>\n",
       "      <td>0</td>\n",
       "      <td>0.0</td>\n",
       "    </tr>\n",
       "    <tr>\n",
       "      <th>sibsp</th>\n",
       "      <td>0</td>\n",
       "      <td>0.0</td>\n",
       "    </tr>\n",
       "    <tr>\n",
       "      <th>parch</th>\n",
       "      <td>0</td>\n",
       "      <td>0.0</td>\n",
       "    </tr>\n",
       "    <tr>\n",
       "      <th>fare</th>\n",
       "      <td>0</td>\n",
       "      <td>0.0</td>\n",
       "    </tr>\n",
       "    <tr>\n",
       "      <th>embarked</th>\n",
       "      <td>0</td>\n",
       "      <td>0.0</td>\n",
       "    </tr>\n",
       "  </tbody>\n",
       "</table>\n",
       "</div>"
      ],
      "text/plain": [
       "          欠損数    %\n",
       "pclass      0  0.0\n",
       "survived    0  0.0\n",
       "sex         0  0.0\n",
       "age         0  0.0\n",
       "sibsp       0  0.0\n",
       "parch       0  0.0\n",
       "fare        0  0.0\n",
       "embarked    0  0.0"
      ]
     },
     "execution_count": 7,
     "metadata": {},
     "output_type": "execute_result"
    }
   ],
   "source": [
    "# 欠損の確認\n",
    "def deficiency_table(df):\n",
    "    null_val = df.isnull().sum()\n",
    "    percent = 100 * df.isnull().sum() / len(df)\n",
    "    deficiency_table = pd.concat([null_val, percent], axis=1)\n",
    "    deficiency_table_ren_columns = deficiency_table.rename(columns={0: \"欠損数\", 1: \"%\"})\n",
    "    return deficiency_table_ren_columns\n",
    "\n",
    "deficiency_table(data)"
   ]
  },
  {
   "cell_type": "code",
   "execution_count": 3,
   "metadata": {},
   "outputs": [],
   "source": [
    "# load the data\n",
    "data = pd.read_csv(\"titanicAssignment.csv\")\n",
    "\n",
    "# カテゴリカルデータをダミー変数化\n",
    "# sex, embarked\n",
    "ohe = OneHotEncoder(categories=\"auto\")\n",
    "feature_arr = ohe.fit_transform(data[[\"sex\", \"embarked\"]]).toarray()\n",
    "\n",
    "# input, outputのデータフレームを作成\n",
    "feature_labels = list(ohe.categories_[0]) + list(ohe.categories_[1])\n",
    "Y = data[\"survived\"]\n",
    "data.drop(labels=[\"survived\", \"sex\", \"embarked\"], axis=1, inplace=True)\n",
    "X = pd.concat([data, pd.DataFrame(feature_arr, columns=feature_labels)], axis=1)\n",
    "\n",
    "# 正規化\n",
    "minMaxScaler = MinMaxScaler()\n",
    "X.loc[:, [\"pclass\"]] = minMaxScaler.fit_transform(X.loc[:, [\"pclass\"]])\n",
    "\n",
    "# 標準化\n",
    "stdScaler = StandardScaler()\n",
    "X.loc[:, [\"age\", \"sibsp\", \"parch\", \"fare\"]] = stdScaler.fit_transform(\n",
    "    X.loc[:, [\"age\", \"sibsp\", \"parch\", \"fare\"]]\n",
    ")\n"
   ]
  },
  {
   "cell_type": "code",
   "execution_count": 4,
   "metadata": {},
   "outputs": [],
   "source": [
    "# データの分割\n",
    "from sklearn.model_selection import train_test_split\n",
    "\n",
    "X_train, X_test, Y_train, Y_test = train_test_split(X, Y, test_size=0.2, random_state=42)\n",
    "Y_train_df = pd.DataFrame(Y_train).reset_index(drop=True).rename(columns={\"survived\": \"True\"})\n",
    "Y_test_df = pd.DataFrame(Y_test).reset_index(drop=True).rename(columns={\"survived\": \"True\"})\n"
   ]
  },
  {
   "cell_type": "code",
   "execution_count": 5,
   "metadata": {},
   "outputs": [
    {
     "name": "stdout",
     "output_type": "stream",
     "text": [
      "Train Data Accuracy: 77.35%\n",
      "Test Data Accuracy: 77.69%\n"
     ]
    }
   ],
   "source": [
    "# モデルの宣言\n",
    "# SVM\n",
    "svmCLF = SVC(C=0.1, kernel=\"linear\")\n",
    "\n",
    "# # 交差検証\n",
    "# # SVM\n",
    "# scores = cross_val_score(svmCLF, X_train, Y_train, scoring=\"f1_macro\", cv=5)\n",
    "# print(\"SVM Score\")\n",
    "# print(scores)\n",
    "# print(\"SVM F1 Macro: %.2f%% (%.2f%%)\" % (scores.mean() * 100, scores.std() * 100))\n",
    "\n",
    "# # 学習\n",
    "svmCLF.fit(X_train, Y_train)\n",
    "\n",
    "# 学習データの予測\n",
    "svm_pred = pd.DataFrame(svmCLF.predict(X_train), columns={\"svm\"})\n",
    "output = pd.concat([Y_train_df, svm_pred], axis=1)\n",
    "svm_true = output[output[\"True\"] == output[\"svm\"]]\n",
    "print(\"Train Data Accuracy: %.2f%%\" % (len(svm_true) / len(output) * 100))\n",
    "\n",
    "# テストデータの予測\n",
    "svm_pred = pd.DataFrame(svmCLF.predict(X_test), columns={\"svm\"})\n",
    "output = pd.concat([Y_test_df, svm_pred], axis=1)\n",
    "svm_true = output[output[\"True\"] == output[\"svm\"]]\n",
    "print(\"Test Data Accuracy: %.2f%%\" % (len(svm_true) / len(output) * 100))"
   ]
  },
  {
   "cell_type": "code",
   "execution_count": 24,
   "metadata": {},
   "outputs": [],
   "source": []
  },
  {
   "cell_type": "code",
   "execution_count": 17,
   "metadata": {},
   "outputs": [
    {
     "name": "stdout",
     "output_type": "stream",
     "text": [
      "Train Data Accuracy: 76.53%\n",
      "Test Data Accuracy: 76.86%\n"
     ]
    }
   ],
   "source": [
    "# モデルの宣言\n",
    "#NaiveBayes\n",
    "NBCLF= GaussianNB()\n",
    "# # 交差検証\n",
    "# #Naive Bayes\n",
    "# scores = cross_val_score(NBCLF, X_train,Y_train, scoring=\"f1_macro\", cv=5)\n",
    "# print(\"NB Score\")\n",
    "# print(scores)\n",
    "# print(\"NB F1 Macro: %.2f%% (%.2f%%)\" % (scores.mean()*100, scores.std()*100))\n",
    "\n",
    "NBCLF.fit(X_train, Y_train)\n",
    "\n",
    "# 学習データの予測\n",
    "nb_pred = pd.DataFrame(NBCLF.predict(X_train), columns={\"nb\"})\n",
    "output = pd.concat([Y_train_df, nb_pred], axis=1)\n",
    "nb_true = output[output[\"True\"] == output[\"nb\"]]\n",
    "print(\"Train Data Accuracy: %.2f%%\" % (len(nb_true) / len(output) * 100))\n",
    "\n",
    "# テストデータの予測\n",
    "nb_pred = pd.DataFrame(NBCLF.predict(X_test), columns={\"nb\"})\n",
    "output = pd.concat([Y_test_df, nb_pred], axis=1)\n",
    "nb_true = output[output[\"True\"] == output[\"nb\"]]\n",
    "print(\"Test Data Accuracy: %.2f%%\" % (len(nb_true) / len(output) * 100))"
   ]
  },
  {
   "cell_type": "code",
   "execution_count": 36,
   "metadata": {},
   "outputs": [],
   "source": [
    "def RFC(max_depth, n_estimators):\n",
    "    # モデルの宣言\n",
    "    # Random Forest\n",
    "    RFCLF = RandomForestClassifier(max_depth=max_depth, n_estimators=n_estimators)\n",
    "    # # 交差検証\n",
    "    # #Random Forest\n",
    "    # scores = cross_val_score(RFCLF,X_train,Y_train, scoring=\"f1_macro\", cv=5)\n",
    "    # print(\"RF Score\")\n",
    "    # print(scores)\n",
    "    # print(\"RF F1 Macro: %.2f%% (%.2f%%)\" % (scores.mean()*100, scores.std()*100))\n",
    "\n",
    "    RFCLF.fit(X_train, Y_train)\n",
    "\n",
    "    # 学習データの推定\n",
    "    rf_pred = pd.DataFrame(RFCLF.predict(X_train), columns={\"rf\"})\n",
    "    output = pd.concat([Y_train_df, rf_pred], axis=1)\n",
    "    rf_true = output[output[\"True\"] == output[\"rf\"]]\n",
    "    train_acc = len(rf_true) / len(output) * 100\n",
    "\n",
    "    # テストデータの推定\n",
    "    rf_pred = pd.DataFrame(RFCLF.predict(X_test), columns={\"rf\"})\n",
    "    output = pd.concat([Y_test_df, rf_pred], axis=1)\n",
    "    rf_true = output[output[\"True\"] == output[\"rf\"]]\n",
    "    test_acc = len(rf_true) / len(output) * 100\n",
    "\n",
    "    return train_acc, test_acc\n",
    "\n",
    "with open(\"RFC_result.txt\", \"w\") as f:\n",
    "    for max_depth in [3, 5, 8, 13, 21, 34, 55, 89, 100]:\n",
    "        for n_estimators in [3, 5, 8, 13, 21, 34, 55, 89, 100]:\n",
    "            train_acc, test_acc = RFC(max_depth, n_estimators)\n",
    "            f.write(\"max_depth={}, n_estimators={}, {:.2f}, {:.2f}\\n\".format(max_depth, n_estimators, train_acc, test_acc))\n"
   ]
  },
  {
   "cell_type": "code",
   "execution_count": null,
   "metadata": {},
   "outputs": [],
   "source": []
  },
  {
   "cell_type": "code",
   "execution_count": null,
   "metadata": {},
   "outputs": [],
   "source": []
  }
 ],
 "metadata": {
  "kernelspec": {
   "display_name": "base",
   "language": "python",
   "name": "python3"
  },
  "language_info": {
   "codemirror_mode": {
    "name": "ipython",
    "version": 3
   },
   "file_extension": ".py",
   "mimetype": "text/x-python",
   "name": "python",
   "nbconvert_exporter": "python",
   "pygments_lexer": "ipython3",
   "version": "3.9.13"
  },
  "orig_nbformat": 4,
  "vscode": {
   "interpreter": {
    "hash": "3067ead486e059ec00ffe7555bdb889e6e264a24dc711bf108106cc7baee8d5d"
   }
  }
 },
 "nbformat": 4,
 "nbformat_minor": 2
}
